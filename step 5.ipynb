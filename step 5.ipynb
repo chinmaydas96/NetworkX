{
 "cells": [
  {
   "cell_type": "markdown",
   "metadata": {},
   "source": [
    "\n",
    "\n",
    "# Step 5: PageRank\n",
    "\n",
    "Many of you may already know PageRank computation by its reputation:  it is used to measure the importance of a Web page.  (Contrary to popular belief, PageRank is named after Larry Page, not Web pages…)  PageRank is actually a tweaked version of a network centrality measure called *eigenvector centrality*.  One way to implement PageRank is as an iterative computation.  We take each graph node $x$ and in iteration 0 assign it a corresponding PageRank $p_x$:\n",
    "\n",
    "$p_x^0= 1 / N$\n",
    "\n",
    "where $N$ is the total number of nodes.\n",
    "\n",
    "Now in each iteration $i$ we recompute:\n",
    "\n",
    "$p_x^{(i)} = \\alpha * \\Sigma_{j \\in B(x)} (1 / N_j) p_j^{(i-1)} + \\beta$\n",
    "\n",
    "![Graph](graph.png)\n",
    "\n",
    "Where $B(x)$ is the set of nodes linking to node $x$, and $N_j$ is the outdegree of each such node $j$.  Typically, repeating the PageRank computation for a number of iterations (15 or so) results in convergence within an acceptable tolerance.  For this assignment we’ll assume $\\beta = 0.15$ and $\\alpha = 0.85$ (anecdoctally these are the most common values used in practice).\n",
    "\n",
    "*Example*. In the figure to the right, nodes $j_1$ and $j_2$ represent the back-link set $B(x)$ for node $x$.  $N_{j1}$ is 3 and $N_{j2}$ is 2.  Thus in each iteration $i$, we recompute the PageRank score for $x$ by adding half of the PageRank score for $j_2$ and a third of the PageRank score of $j_3$ (both from the previous iteration $i-1$).\n",
    "\n",
    "*Hint*.  Build some “helper” DataFrames.  We suggest at least 2 DataFrames, where the first is used the build the second, and the second is used in your solution:\n",
    "1. a DataFrame with each from_node and the proportion of weight it transfers to each outgoing edge.  For instance, if the from_node is node j then the proportion of weight should be $1/N_j$.\n",
    "2. a DataFrame, again with the from_node, each node it transfers weight to, and the proportion of weight computed in (1).  For instance, if the `from_node` is $j$ and the to_node is $x$, then the tuple should be $(j, x, 1/N_j)$.\n",
    "\n",
    "*Submission*. See the external document for submission information.  Remember to first do the basic part of **Homework 2**."
   ]
  },
  {
   "cell_type": "markdown",
   "metadata": {},
   "source": [
    "## 5.1  Initialization and Marshalling\n",
    "\n",
    "### 5.1.1 Spark setup and data load\n",
    "\n",
    "Initialize PySpark as in the basic Homework 2.  Load `pr_graph.txt` as a text file with a single column."
   ]
  },
  {
   "cell_type": "code",
   "execution_count": 1,
   "metadata": {},
   "outputs": [
    {
     "ename": "NotImplementedError",
     "evalue": "",
     "output_type": "error",
     "traceback": [
      "\u001b[0;31m---------------------------------------------------------------------------\u001b[0m",
      "\u001b[0;31mNotImplementedError\u001b[0m                       Traceback (most recent call last)",
      "\u001b[0;32m<ipython-input-1-3562b98af793>\u001b[0m in \u001b[0;36m<module>\u001b[0;34m\u001b[0m\n\u001b[1;32m      9\u001b[0m \u001b[0;34m\u001b[0m\u001b[0m\n\u001b[1;32m     10\u001b[0m \u001b[0;31m# YOUR CODE HERE\u001b[0m\u001b[0;34m\u001b[0m\u001b[0;34m\u001b[0m\u001b[0m\n\u001b[0;32m---> 11\u001b[0;31m \u001b[0;32mraise\u001b[0m \u001b[0mNotImplementedError\u001b[0m\u001b[0;34m(\u001b[0m\u001b[0;34m)\u001b[0m\u001b[0;34m\u001b[0m\u001b[0m\n\u001b[0m",
      "\u001b[0;31mNotImplementedError\u001b[0m: "
     ]
    }
   ],
   "source": [
    "import numpy as np\n",
    "import pandas as pd\n",
    "import networkx as nx\n",
    "\n",
    "# TODO: Connect to Spark session as in Homework 2.\n",
    "# Then load the file\n",
    "\n",
    "# Worth 5 points\n",
    "\n",
    "\n",
    "# YOUR CODE HERE\n",
    "raise NotImplementedError()"
   ]
  },
  {
   "cell_type": "code",
   "execution_count": null,
   "metadata": {},
   "outputs": [],
   "source": [
    "if pr_sdf.count() != 19:\n",
    "    raise ValueError('Unexpected graph size')"
   ]
  },
  {
   "cell_type": "markdown",
   "metadata": {},
   "source": [
    "### 5.1.2 Wrangling the Graph Data\n",
    "\n",
    "There are 3 columns in the file:\n",
    "* `from_node`\n",
    "* `to_node`\n",
    "* `reserved`\n",
    "\n",
    "You can ignore `reserved`.  Use Spark's *split()* function to update `pr_sdf` to have two columns, `from_node` and `to_node`.  Make each an integer.\n",
    "\n",
    "The split function in Spark, works similarly to the one in Python.  It can be called directly from Spark SQL (`select split(x,’ ’) …`) or by `import`ing `pyspark.sql.functions` and referring to the function in Python.\n",
    "\n",
    "You may need to cast your columns since they start off as strings.  In Python, you can call `my_sdf.column.cast(‘type’)` to convert data types.  In SQL it’s `SELECT CAST(my_sdf.column AS type).`  "
   ]
  },
  {
   "cell_type": "code",
   "execution_count": null,
   "metadata": {},
   "outputs": [],
   "source": [
    "# TODO: Convert pr_sdf into (from_node, to_node) with integer fields\n",
    "# Worth 5 points\n",
    "\n",
    "# YOUR CODE HERE\n",
    "raise NotImplementedError()"
   ]
  },
  {
   "cell_type": "code",
   "execution_count": null,
   "metadata": {},
   "outputs": [],
   "source": [
    "results = pr_sdf.take(20)\n",
    "\n",
    "if 'from_node' not in pr_sdf.columns:\n",
    "    raise KeyError('Unexpected column names')\n",
    "if 'to_node' not in pr_sdf.columns:\n",
    "    raise KeyError('Unexpected column names')\n"
   ]
  },
  {
   "cell_type": "markdown",
   "metadata": {},
   "source": [
    "## 5.2 Basic PageRank\n",
    "\n",
    "Write the function `pagerank(G, num_iter)` which takes a graph DataFrame G corresponding to your graph, and runs for `num_iter` steps.  It should return a DataFrame with columns (`node_id`, `pagerank`).\n",
    "\n",
    "Initialize your PageRank values for each node in the “base case”.  Then, in each iteration, use the helper DataFrames to compute PageRank scores for each node in the next iteration.\n",
    "\n",
    "You will likely find it easier to express some of the computations in SparkSQL.  If you want to use spark.select, you may find it useful to use the Spark F.udf function to create functions that can be called over each row in the DataFrame.  You can create a function that returns a double as follows:\n",
    "\n",
    "```\n",
    "my_fn = F.udf(lambda x: f(x), DoubleType())\n",
    "```\n",
    "\n",
    "Then you can call it like:\n",
    "```\n",
    "\tmy_sdf.select(my_fn(my_arg)).alias(‘col_name’)\n",
    "```"
   ]
  },
  {
   "cell_type": "code",
   "execution_count": null,
   "metadata": {},
   "outputs": [],
   "source": [
    "# TODO: write the function\n",
    "# Worth 10 points\n",
    "def pagerank(G, num_iter):\n",
    "# YOUR CODE HERE\n",
    "raise NotImplementedError()"
   ]
  },
  {
   "cell_type": "code",
   "execution_count": null,
   "metadata": {},
   "outputs": [],
   "source": [
    "pagerank(pr_sdf, 5).orderBy(\"pagerank\").show()"
   ]
  },
  {
   "cell_type": "markdown",
   "metadata": {},
   "source": [
    "### 5.3 Removal of Self-Loops\n",
    "\n",
    "The existing graph has a few self-loops.  Let's see what happens if you remove them.  For this one, take `pr_sdf` and remove all self-edges, creating `pr_no_loops_sdf`.  Run `pagerank(pr_no_loops_sdf, 5)`, sort in decreasing order by pagerank, and put the results in a list `pageranks`."
   ]
  },
  {
   "cell_type": "code",
   "execution_count": null,
   "metadata": {},
   "outputs": [],
   "source": [
    "# TODO: create pr_no_loops_sdf and feed it into pagerank.  \n",
    "# The final result should be an ordered list of Rows (nodes and pageranks) called pageranks.\n",
    "\n",
    "# YOUR CODE HERE\n",
    "raise NotImplementedError()\n",
    "pageranks"
   ]
  },
  {
   "cell_type": "code",
   "execution_count": null,
   "metadata": {},
   "outputs": [],
   "source": [
    "if len(pageranks) != 7:\n",
    "    raise ValueError('Should have 7 nodes!')\n",
    "    "
   ]
  },
  {
   "cell_type": "code",
   "execution_count": null,
   "metadata": {},
   "outputs": [],
   "source": []
  }
 ],
 "metadata": {
  "kernelspec": {
   "display_name": "Python 3",
   "language": "python",
   "name": "python3"
  },
  "language_info": {
   "codemirror_mode": {
    "name": "ipython",
    "version": 3
   },
   "file_extension": ".py",
   "mimetype": "text/x-python",
   "name": "python",
   "nbconvert_exporter": "python",
   "pygments_lexer": "ipython3",
   "version": "3.7.0"
  }
 },
 "nbformat": 4,
 "nbformat_minor": 1
}
